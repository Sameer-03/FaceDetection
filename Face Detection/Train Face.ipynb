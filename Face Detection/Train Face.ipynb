{
 "cells": [
  {
   "cell_type": "code",
   "execution_count": 1,
   "metadata": {},
   "outputs": [],
   "source": [
    "import cv2"
   ]
  },
  {
   "cell_type": "code",
   "execution_count": 2,
   "metadata": {},
   "outputs": [],
   "source": [
    "import matplotlib.pyplot as plt"
   ]
  },
  {
   "cell_type": "code",
   "execution_count": 3,
   "metadata": {},
   "outputs": [],
   "source": [
    "cam=cv2.VideoCapture(0)\n",
    "x,y=cam.read()\n",
    "cam.release()\n",
    "img=cv2.cvtColor(y,cv2.COLOR_BGR2RGB)"
   ]
  },
  {
   "cell_type": "code",
   "execution_count": 4,
   "metadata": {},
   "outputs": [
    {
     "data": {
      "text/plain": [
       "True"
      ]
     },
     "execution_count": 4,
     "metadata": {},
     "output_type": "execute_result"
    }
   ],
   "source": [
    "x"
   ]
  },
  {
   "cell_type": "code",
   "execution_count": 9,
   "metadata": {},
   "outputs": [
    {
     "data": {
      "text/plain": [
       "(480, 640, 3)"
      ]
     },
     "execution_count": 9,
     "metadata": {},
     "output_type": "execute_result"
    }
   ],
   "source": [
    "y.shape"
   ]
  },
  {
   "cell_type": "code",
   "execution_count": 10,
   "metadata": {},
   "outputs": [],
   "source": [
    "face_detector=cv2.CascadeClassifier('haarcascade_frontalface_alt.xml')"
   ]
  },
  {
   "cell_type": "code",
   "execution_count": 5,
   "metadata": {},
   "outputs": [],
   "source": [
    "import numpy as np"
   ]
  },
  {
   "cell_type": "code",
   "execution_count": 10,
   "metadata": {},
   "outputs": [
    {
     "name": "stdin",
     "output_type": "stream",
     "text": [
      "Name of Person Karuna\n"
     ]
    },
    {
     "name": "stdout",
     "output_type": "stream",
     "text": [
      "saving pic 1.0\n",
      "saving pic 2.0\n",
      "saving pic 3.0\n",
      "saving pic 4.0\n",
      "saving pic 5.0\n",
      "saving pic 6.0\n",
      "saving pic 7.0\n",
      "saving pic 8.0\n",
      "saving pic 9.0\n",
      "saving pic 10.0\n",
      "saving pic 11.0\n",
      "saving pic 12.0\n",
      "saving pic 13.0\n",
      "saving pic 14.0\n",
      "saving pic 15.0\n",
      "saving pic 16.0\n",
      "saving pic 17.0\n",
      "saving pic 18.0\n",
      "saving pic 19.0\n",
      "saving pic 20.0\n",
      "(20, 100, 100, 3)\n",
      "Images saved to disk\n"
     ]
    }
   ],
   "source": [
    "name=input('Name of Person')\n",
    "pics=[]\n",
    "cam=cv2.VideoCapture(0)\n",
    "cnt=0\n",
    "while True:\n",
    "    b,img=cam.read()\n",
    "    if b==False:\n",
    "        continue\n",
    "    faces=face_detector.detectMultiScale(img,1.06,5)\n",
    "    \n",
    "    if (len(faces)==0):\n",
    "        continue\n",
    "    \n",
    "    \n",
    "    #for f in faces:\n",
    "    f=faces[0]\n",
    "    x,y,w,h=f\n",
    "    green=(0,255,0)\n",
    "    cv2.rectangle(img,(x,y),(x+w,y+h),green,5)\n",
    "    cropimg=img[y:y+h,x:x+w]\n",
    "    cv2.imshow('C Face',cropimg)\n",
    "    cnt+=1\n",
    "    if(cnt%10==0):\n",
    "        print('saving pic',cnt/10)\n",
    "        cropimg=cv2.resize(cropimg,(100,100))\n",
    "        pics.append(cropimg)\n",
    "    if(cnt/10==20):\n",
    "        break\n",
    "            \n",
    "    cv2.imshow(\"Title\",img)\n",
    "    cv2.waitKey(1)\n",
    "cam.release()\n",
    "cv2.destroyAllWindows()\n",
    "pics = np.array(pics)\n",
    "print(pics.shape)\n",
    "\n",
    "np.save(name+\".npy\",pics)\n",
    "print(\"Images saved to disk\")"
   ]
  },
  {
   "cell_type": "code",
   "execution_count": 7,
   "metadata": {},
   "outputs": [],
   "source": [
    "cam.release()"
   ]
  },
  {
   "cell_type": "code",
   "execution_count": 8,
   "metadata": {},
   "outputs": [],
   "source": [
    "cv2.destroyAllWindows()"
   ]
  },
  {
   "cell_type": "code",
   "execution_count": null,
   "metadata": {},
   "outputs": [],
   "source": []
  }
 ],
 "metadata": {
  "kernelspec": {
   "display_name": "Python 3",
   "language": "python",
   "name": "python3"
  },
  "language_info": {
   "codemirror_mode": {
    "name": "ipython",
    "version": 3
   },
   "file_extension": ".py",
   "mimetype": "text/x-python",
   "name": "python",
   "nbconvert_exporter": "python",
   "pygments_lexer": "ipython3",
   "version": "3.7.3"
  }
 },
 "nbformat": 4,
 "nbformat_minor": 4
}
