{
 "cells": [
  {
   "cell_type": "code",
   "execution_count": 1,
   "metadata": {},
   "outputs": [],
   "source": [
    "import os\n",
    "import numpy as np\n",
    "import cv2"
   ]
  },
  {
   "cell_type": "code",
   "execution_count": 2,
   "metadata": {},
   "outputs": [
    {
     "name": "stdout",
     "output_type": "stream",
     "text": [
      "data shape (20, 100, 100, 3)\n",
      "labels :  [0 0 0 0 0 0 0 0 0 0 0 0 0 0 0 0 0 0 0 0]\n",
      "data shape (20, 100, 100, 3)\n",
      "labels :  [1 1 1 1 1 1 1 1 1 1 1 1 1 1 1 1 1 1 1 1]\n",
      "data shape (20, 100, 100, 3)\n",
      "labels :  [2 2 2 2 2 2 2 2 2 2 2 2 2 2 2 2 2 2 2 2]\n",
      "data shape (20, 100, 100, 3)\n",
      "labels :  [3 3 3 3 3 3 3 3 3 3 3 3 3 3 3 3 3 3 3 3]\n"
     ]
    },
    {
     "data": {
      "text/plain": [
       "{0: 'Aarna', 1: 'Karuna', 2: 'Sameer', 3: 'Sushantika'}"
      ]
     },
     "execution_count": 2,
     "metadata": {},
     "output_type": "execute_result"
    }
   ],
   "source": [
    "d=[]\n",
    "idx2name={}\n",
    "pics=[]\n",
    "labels=[]\n",
    "cnt=0\n",
    "Y=[]\n",
    "files=os.listdir()\n",
    "for f in files:\n",
    "    if f.endswith('.npy'):\n",
    "        data=np.load(f)\n",
    "        print('data shape',data.shape)\n",
    "        labels=np.ones(data.shape[0],dtype='int32')*cnt\n",
    "        pics.append(data)\n",
    "        idx2name[cnt]=f[:-4]\n",
    "        cnt+=1\n",
    "        Y.append(labels)\n",
    "        print(\"labels : \",labels)\n",
    "        \n",
    "idx2name"
   ]
  },
  {
   "cell_type": "code",
   "execution_count": 3,
   "metadata": {},
   "outputs": [
    {
     "data": {
      "text/plain": [
       "[array([0, 0, 0, 0, 0, 0, 0, 0, 0, 0, 0, 0, 0, 0, 0, 0, 0, 0, 0, 0]),\n",
       " array([1, 1, 1, 1, 1, 1, 1, 1, 1, 1, 1, 1, 1, 1, 1, 1, 1, 1, 1, 1]),\n",
       " array([2, 2, 2, 2, 2, 2, 2, 2, 2, 2, 2, 2, 2, 2, 2, 2, 2, 2, 2, 2]),\n",
       " array([3, 3, 3, 3, 3, 3, 3, 3, 3, 3, 3, 3, 3, 3, 3, 3, 3, 3, 3, 3])]"
      ]
     },
     "execution_count": 3,
     "metadata": {},
     "output_type": "execute_result"
    }
   ],
   "source": [
    "Y"
   ]
  },
  {
   "cell_type": "code",
   "execution_count": 4,
   "metadata": {},
   "outputs": [],
   "source": [
    "def dist(a,b):\n",
    "    return np.sum(((a-b)**2)**.5)"
   ]
  },
  {
   "cell_type": "code",
   "execution_count": 5,
   "metadata": {},
   "outputs": [],
   "source": [
    "def knn(X,Y,test_pt,k=5):\n",
    "    d=[]\n",
    "    m=X[1].shape[0]\n",
    "    #print('0 X Y test',X[0].shape,Y[0].shape,test_pt.shape)\n",
    "    \n",
    "    for i in range(len(pics)):\n",
    "        cnt=0\n",
    "        for j in range(m):\n",
    "            cnt+=1\n",
    "            #print('2',cnt,' X Y test',X[i][j].shape,Y[i].shape,test_pt.shape)\n",
    "            c_dis=dist(X[i][j],test_pt)\n",
    "            #print(c_dis)\n",
    "            d.append((c_dis,Y[i][j]))\n",
    "    d.sort()\n",
    "    d=d[0:k]\n",
    "    d=np.array(d)\n",
    "    #print('d shape',d.shape)\n",
    "    d=d[:,1]\n",
    "    #print('d ',d)\n",
    "    uniq,occ=np.unique(d,return_counts=True)\n",
    "    idx=np.argmax(occ)\n",
    "    pred=uniq[idx]\n",
    "    \n",
    "    return int(pred)"
   ]
  },
  {
   "cell_type": "code",
   "execution_count": 5,
   "metadata": {},
   "outputs": [],
   "source": [
    "# xxx=[1,2,2,1,5,6,2]\n",
    "# u,oc=np.unique(xxx,return_counts=True)"
   ]
  },
  {
   "cell_type": "code",
   "execution_count": 8,
   "metadata": {},
   "outputs": [
    {
     "name": "stdout",
     "output_type": "stream",
     "text": [
      "[1 2 5 6]  ,  [2 3 1 1]\n"
     ]
    }
   ],
   "source": [
    "# print(u,\" , \",oc)"
   ]
  },
  {
   "cell_type": "code",
   "execution_count": 3,
   "metadata": {},
   "outputs": [],
   "source": [
    "face_detector=cv2.CascadeClassifier('haarcascade_frontalface_alt.xml')"
   ]
  },
  {
   "cell_type": "code",
   "execution_count": 7,
   "metadata": {},
   "outputs": [],
   "source": [
    "cam=cv2.VideoCapture(0)\n",
    "while True:\n",
    "    b,img=cam.read()\n",
    "    #cv2.imshow('img',img)\n",
    "    #cv2.waitKey(0)\n",
    "    #cv2.destroyAllWindows()\n",
    "    #cv2.imshow(\"Title\",img)\n",
    "    if b==False:\n",
    "        continue\n",
    "    faces=face_detector.detectMultiScale(img,1.06,5)\n",
    "    \n",
    "    if (len(faces)==0):\n",
    "        continue\n",
    "    for f in faces:\n",
    "        #print(f)\n",
    "        x,y,w,h=f\n",
    "        img1=img[y:y+h,x:x+w]\n",
    "        img1=cv2.resize(img1,(100,100))\n",
    "        #print(img1.shape)\n",
    "        name=knn(pics,Y,img1)\n",
    "        #print(idx2name[name])\n",
    "        green=(0,255,0)\n",
    "        cv2.rectangle(img,(x,y),(x+w,y+h),green,5)\n",
    "        font=cv2.FONT_HERSHEY_SIMPLEX\n",
    "        fontscale=1\n",
    "        xx=cv2.putText(img,idx2name[name],(x,y-8),font,fontscale,green,2,cv2.LINE_AA)\n",
    "        cv2.imshow('img',xx)\n",
    "    if cv2.waitKey(1)==ord('q'):\n",
    "        break\n",
    "    \n",
    "cam.release()            \n",
    "cv2.destroyAllWindows()\n"
   ]
  },
  {
   "cell_type": "code",
   "execution_count": null,
   "metadata": {},
   "outputs": [],
   "source": []
  }
 ],
 "metadata": {
  "kernelspec": {
   "display_name": "Python 3",
   "language": "python",
   "name": "python3"
  },
  "language_info": {
   "codemirror_mode": {
    "name": "ipython",
    "version": 3
   },
   "file_extension": ".py",
   "mimetype": "text/x-python",
   "name": "python",
   "nbconvert_exporter": "python",
   "pygments_lexer": "ipython3",
   "version": "3.7.3"
  }
 },
 "nbformat": 4,
 "nbformat_minor": 4
}
